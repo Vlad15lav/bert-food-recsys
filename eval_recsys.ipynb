{
  "cells": [
    {
      "cell_type": "code",
      "execution_count": 1,
      "id": "ce3b2a14-7026-4cb2-bab3-e572fa73e3fb",
      "metadata": {
        "id": "ce3b2a14-7026-4cb2-bab3-e572fa73e3fb"
      },
      "outputs": [],
      "source": [
        "import os\n",
        "import re\n",
        "import math\n",
        "import joblib\n",
        "import nltk\n",
        "import numpy as np\n",
        "import scipy.sparse as sparse\n",
        "import pandas as pd\n",
        "import matplotlib.pyplot as plt\n",
        "\n",
        "from sklearn.feature_extraction.text import TfidfVectorizer\n",
        "from sklearn.metrics.pairwise import cosine_similarity\n",
        "\n",
        "from pymystem3 import Mystem\n",
        "from nltk.corpus import stopwords"
      ]
    },
    {
      "cell_type": "code",
      "execution_count": 2,
      "id": "d93f17d0-40df-4dea-965f-4be4cd2b8362",
      "metadata": {
        "id": "d93f17d0-40df-4dea-965f-4be4cd2b8362"
      },
      "outputs": [],
      "source": [
        "df_items = pd.read_csv('food-dataset-ru.csv')\n",
        "labels = df_items['label'].values"
      ]
    },
    {
      "cell_type": "code",
      "source": [
        "# Эмбеддинги полученный с помощью BERT\n",
        "bert_embed_items = np.load('bert_items_embed.npy')\n",
        "bert_embed_items.shape"
      ],
      "metadata": {
        "colab": {
          "base_uri": "https://localhost:8080/"
        },
        "id": "ObpgwXncvN_V",
        "outputId": "580aadb0-0a38-46e4-dce4-42d1d6f98da7"
      },
      "id": "ObpgwXncvN_V",
      "execution_count": 3,
      "outputs": [
        {
          "output_type": "execute_result",
          "data": {
            "text/plain": [
              "(37638, 312)"
            ]
          },
          "metadata": {},
          "execution_count": 3
        }
      ]
    },
    {
      "cell_type": "code",
      "source": [
        "# Эмбеддинги полученный с помощью TF-IDF\n",
        "tfidf_embed_items = sparse.load_npz('tfidf_items_embed.npz')\n",
        "tfidf_embed_items.shape"
      ],
      "metadata": {
        "colab": {
          "base_uri": "https://localhost:8080/"
        },
        "id": "vVXBlQsOvOB0",
        "outputId": "6ca62a67-3cc9-4e7a-9407-b2805f418f86"
      },
      "id": "vVXBlQsOvOB0",
      "execution_count": 4,
      "outputs": [
        {
          "output_type": "execute_result",
          "data": {
            "text/plain": [
              "(37638, 17523)"
            ]
          },
          "metadata": {},
          "execution_count": 4
        }
      ]
    },
    {
      "cell_type": "code",
      "source": [
        "index_set = np.arange(df_items.shape[0])\n",
        "\n",
        "np.random.seed(42)\n",
        "np.random.shuffle(index_set)\n",
        "\n",
        "train_index = index_set[:-int(len(index_set) * 0.2)]\n",
        "test_index = index_set[-int(len(index_set) * 0.2):]"
      ],
      "metadata": {
        "id": "AiKkxACh24YF"
      },
      "id": "AiKkxACh24YF",
      "execution_count": 5,
      "outputs": []
    },
    {
      "cell_type": "markdown",
      "source": [
        "## Metrics"
      ],
      "metadata": {
        "id": "Es61WJyXxmwZ"
      },
      "id": "Es61WJyXxmwZ"
    },
    {
      "cell_type": "code",
      "source": [
        "def eval_mapk(labels, items_embed, index_set, K=[3, 5, 7]):\n",
        "    if type(K) is int:\n",
        "        K = [K]\n",
        "\n",
        "    # Вычисляем схожесть items\n",
        "    score = cosine_similarity(tfidf_embed_items, tfidf_embed_items[index_set])\n",
        "    # Сортируем по схожести items\n",
        "    rating_arg = np.argsort(score, axis=0)[::-1]\n",
        "\n",
        "    mapk_dict = {}\n",
        "    for k in K:\n",
        "        # Релевантный класс для каждого items\n",
        "        relevant_cls = labels[rating_arg[0, :]]\n",
        "        rating_cls = labels[rating_arg[1:k + 1, :]]\n",
        "\n",
        "        # Сравнение полученных классов с релевантным\n",
        "        relevant_mask = np.int16(rating_cls == relevant_cls)\n",
        "        relevant_count = np.sum(relevant_mask, axis=0)\n",
        "        relevant_count[relevant_count == 0] = 1\n",
        "\n",
        "        # Average Precision Top K\n",
        "        precision = np.cumsum(relevant_mask, axis=0) / np.arange(1, k + 1).reshape(k, 1)\n",
        "        avg_precision = np.sum(precision * relevant_mask, axis=0) / relevant_count\n",
        "\n",
        "        # Mean Average Precision Top K\n",
        "        mapk = np.mean(avg_precision)\n",
        "        mapk_dict[f\"MAP@{k}\"] = mapk\n",
        "    return mapk_dict"
      ],
      "metadata": {
        "id": "3gMLm_I0xl9r"
      },
      "id": "3gMLm_I0xl9r",
      "execution_count": 6,
      "outputs": []
    },
    {
      "cell_type": "code",
      "source": [
        "bert_test_mapk = eval_mapk(labels, tfidf_embed_items, test_index, K=[3, 5, 7, 10])\n",
        "tfidf_test_mapk = eval_mapk(labels, tfidf_embed_items, test_index, K=[3, 5, 7, 10])"
      ],
      "metadata": {
        "id": "wKOtRI2WP46a"
      },
      "id": "wKOtRI2WP46a",
      "execution_count": 7,
      "outputs": []
    },
    {
      "cell_type": "code",
      "source": [
        "# Метрика MAP@K для BERT RecSys\n",
        "bert_test_mapk"
      ],
      "metadata": {
        "colab": {
          "base_uri": "https://localhost:8080/"
        },
        "id": "iKFxHUTFbdkt",
        "outputId": "fc6b9899-c069-446e-a24c-0a9fb0e70a5c"
      },
      "id": "iKFxHUTFbdkt",
      "execution_count": 8,
      "outputs": [
        {
          "output_type": "execute_result",
          "data": {
            "text/plain": [
              "{'MAP@3': 0.7532438775962091,\n",
              " 'MAP@5': 0.7475205925335459,\n",
              " 'MAP@7': 0.7359844295984193,\n",
              " 'MAP@10': 0.7196004352835713}"
            ]
          },
          "metadata": {},
          "execution_count": 8
        }
      ]
    },
    {
      "cell_type": "code",
      "source": [
        "# Метрика MAP@K для TF-IDF RecSys\n",
        "tfidf_test_mapk"
      ],
      "metadata": {
        "colab": {
          "base_uri": "https://localhost:8080/"
        },
        "id": "IcU5wKBHbdoH",
        "outputId": "d2a00184-0c33-4aeb-8c1b-f7b0c631d6c9"
      },
      "id": "IcU5wKBHbdoH",
      "execution_count": 9,
      "outputs": [
        {
          "output_type": "execute_result",
          "data": {
            "text/plain": [
              "{'MAP@3': 0.7532438775962091,\n",
              " 'MAP@5': 0.7475205925335459,\n",
              " 'MAP@7': 0.7359844295984193,\n",
              " 'MAP@10': 0.7196004352835713}"
            ]
          },
          "metadata": {},
          "execution_count": 9
        }
      ]
    },
    {
      "cell_type": "code",
      "source": [],
      "metadata": {
        "id": "ramTZdxucjcY"
      },
      "id": "ramTZdxucjcY",
      "execution_count": 9,
      "outputs": []
    }
  ],
  "metadata": {
    "colab": {
      "provenance": []
    },
    "kernelspec": {
      "display_name": "Python 3 (ipykernel)",
      "language": "python",
      "name": "python3"
    },
    "language_info": {
      "codemirror_mode": {
        "name": "ipython",
        "version": 3
      },
      "file_extension": ".py",
      "mimetype": "text/x-python",
      "name": "python",
      "nbconvert_exporter": "python",
      "pygments_lexer": "ipython3",
      "version": "3.7.7"
    }
  },
  "nbformat": 4,
  "nbformat_minor": 5
}