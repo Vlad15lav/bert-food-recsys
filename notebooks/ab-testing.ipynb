{
 "cells": [
  {
   "cell_type": "code",
   "execution_count": 1,
   "metadata": {},
   "outputs": [],
   "source": [
    "import pandas as pd\n",
    "\n",
    "from scipy.stats import ttest_ind"
   ]
  },
  {
   "cell_type": "markdown",
   "metadata": {},
   "source": [
    "## Данные во время эксперимента из базы данных\n",
    "\n",
    "```SQL\n",
    "mysql -u Vladicheck -p -h Vladicheck.mysql.pythonanywhere-services.com -e \n",
    "\"SELECT user_id, date, model_id, rating\n",
    "FROM (\n",
    "    SELECT request_id, user_id, date, model_id\n",
    "    FROM requests\n",
    ") t1 LEFT JOIN (\n",
    "    SELECT request_id, rating\n",
    "    FROM reviews\n",
    ") t2 USING(request_id)\"\n",
    "'Vladicheck$ai_chef' > recsys_experiment.csv\n",
    "```"
   ]
  },
  {
   "cell_type": "code",
   "execution_count": 2,
   "metadata": {},
   "outputs": [
    {
     "data": {
      "text/html": [
       "<div>\n",
       "<style scoped>\n",
       "    .dataframe tbody tr th:only-of-type {\n",
       "        vertical-align: middle;\n",
       "    }\n",
       "\n",
       "    .dataframe tbody tr th {\n",
       "        vertical-align: top;\n",
       "    }\n",
       "\n",
       "    .dataframe thead th {\n",
       "        text-align: right;\n",
       "    }\n",
       "</style>\n",
       "<table border=\"1\" class=\"dataframe\">\n",
       "  <thead>\n",
       "    <tr style=\"text-align: right;\">\n",
       "      <th></th>\n",
       "      <th>user_id</th>\n",
       "      <th>date</th>\n",
       "      <th>model_id</th>\n",
       "      <th>rating</th>\n",
       "    </tr>\n",
       "  </thead>\n",
       "  <tbody>\n",
       "    <tr>\n",
       "      <th>0</th>\n",
       "      <td>1</td>\n",
       "      <td>2026-04-01 15:34:05</td>\n",
       "      <td>2</td>\n",
       "      <td>NaN</td>\n",
       "    </tr>\n",
       "    <tr>\n",
       "      <th>1</th>\n",
       "      <td>0</td>\n",
       "      <td>2026-04-01 15:44:14</td>\n",
       "      <td>1</td>\n",
       "      <td>3.0</td>\n",
       "    </tr>\n",
       "    <tr>\n",
       "      <th>2</th>\n",
       "      <td>1</td>\n",
       "      <td>2026-04-01 15:47:22</td>\n",
       "      <td>1</td>\n",
       "      <td>3.0</td>\n",
       "    </tr>\n",
       "    <tr>\n",
       "      <th>3</th>\n",
       "      <td>1</td>\n",
       "      <td>2026-04-01 16:11:52</td>\n",
       "      <td>1</td>\n",
       "      <td>NaN</td>\n",
       "    </tr>\n",
       "    <tr>\n",
       "      <th>4</th>\n",
       "      <td>0</td>\n",
       "      <td>2026-04-01 16:28:22</td>\n",
       "      <td>1</td>\n",
       "      <td>NaN</td>\n",
       "    </tr>\n",
       "  </tbody>\n",
       "</table>\n",
       "</div>"
      ],
      "text/plain": [
       "   user_id                 date  model_id  rating\n",
       "0        1  2026-04-01 15:34:05         2     NaN\n",
       "1        0  2026-04-01 15:44:14         1     3.0\n",
       "2        1  2026-04-01 15:47:22         1     3.0\n",
       "3        1  2026-04-01 16:11:52         1     NaN\n",
       "4        0  2026-04-01 16:28:22         1     NaN"
      ]
     },
     "execution_count": 2,
     "metadata": {},
     "output_type": "execute_result"
    }
   ],
   "source": [
    "df_exp = pd.read_csv('../data/recsys_experiment.csv')\n",
    "df_exp.head()"
   ]
  },
  {
   "cell_type": "markdown",
   "metadata": {},
   "source": [
    "## Дизайн эксперимента\n",
    "\n",
    "Гипотеза: Новая рекомендательная система с использование BERT повысит долю успешных рекомендаций на $0.1$%\n",
    "\n",
    "- Уровень значимости: $\\alpha = 0.05$\n",
    "- Мощность: $1 - \\beta = 0.9$\n",
    "- Ожидаемый эффект: $0.1%$\n",
    "- Ration метрика: Доля успешных рекомендаций (рейтинг $> 2$)\n",
    "- Метод линеаризация"
   ]
  },
  {
   "cell_type": "code",
   "execution_count": 3,
   "metadata": {},
   "outputs": [],
   "source": [
    "df_exp[\"rating\"].fillna(0, inplace=True)"
   ]
  },
  {
   "cell_type": "code",
   "execution_count": 4,
   "metadata": {},
   "outputs": [],
   "source": [
    "df_exp[\"success\"] = df_exp[\"rating\"] > 2\n",
    "df_exp[\"success\"] = df_exp[\"success\"].astype(int)"
   ]
  },
  {
   "cell_type": "code",
   "execution_count": 5,
   "metadata": {},
   "outputs": [],
   "source": [
    "ab_data = df_exp.groupby([\"user_id\", \"model_id\"]).agg(\n",
    "        success_reviews=(\"success\", \"sum\"),\n",
    "        review_count=(\"success\", \"count\")\n",
    "    ).reset_index()"
   ]
  },
  {
   "cell_type": "code",
   "execution_count": 6,
   "metadata": {},
   "outputs": [],
   "source": [
    "a_group, b_group = ab_data.query(\"model_id == 1\"), ab_data.query(\"model_id == 2\")"
   ]
  },
  {
   "cell_type": "markdown",
   "metadata": {},
   "source": [
    "## Линеаризация метрики"
   ]
  },
  {
   "cell_type": "code",
   "execution_count": 7,
   "metadata": {},
   "outputs": [
    {
     "data": {
      "text/plain": [
       "(0.39171974522292996, 0.5069984447900466)"
      ]
     },
     "execution_count": 7,
     "metadata": {},
     "output_type": "execute_result"
    }
   ],
   "source": [
    "a_group['success_reviews'].sum() / a_group['review_count'].sum(), \\\n",
    "    b_group['success_reviews'].sum() / b_group['review_count'].sum()"
   ]
  },
  {
   "cell_type": "code",
   "execution_count": 8,
   "metadata": {},
   "outputs": [],
   "source": [
    "k = a_group['success_reviews'].sum() / a_group['review_count'].sum()"
   ]
  },
  {
   "cell_type": "code",
   "execution_count": 9,
   "metadata": {},
   "outputs": [],
   "source": [
    "a_linear = a_group['success_reviews'] - k * a_group['review_count']\n",
    "b_linear = b_group['success_reviews'] - k * b_group['review_count']"
   ]
  },
  {
   "cell_type": "code",
   "execution_count": 10,
   "metadata": {},
   "outputs": [
    {
     "data": {
      "text/plain": [
       "TtestResult(statistic=-4.093915114997053, pvalue=5.858733993417231e-05, df=232.0)"
      ]
     },
     "execution_count": 10,
     "metadata": {},
     "output_type": "execute_result"
    }
   ],
   "source": [
    "test_result = ttest_ind(a_linear, b_linear)\n",
    "test_result"
   ]
  },
  {
   "cell_type": "code",
   "execution_count": 11,
   "metadata": {},
   "outputs": [
    {
     "data": {
      "text/plain": [
       "True"
      ]
     },
     "execution_count": 11,
     "metadata": {},
     "output_type": "execute_result"
    }
   ],
   "source": [
    "test_result.pvalue < 0.05"
   ]
  },
  {
   "cell_type": "markdown",
   "metadata": {},
   "source": [
    "## Результат эксперимента"
   ]
  },
  {
   "cell_type": "markdown",
   "metadata": {},
   "source": [
    "Значение $pvalue < 0.05$.\n",
    "\n",
    "Модель на основе BERT статистически значимо лучше, чем TF-IDF!"
   ]
  }
 ],
 "metadata": {
  "kernelspec": {
   "display_name": "Python 3",
   "language": "python",
   "name": "python3"
  },
  "language_info": {
   "codemirror_mode": {
    "name": "ipython",
    "version": 3
   },
   "file_extension": ".py",
   "mimetype": "text/x-python",
   "name": "python",
   "nbconvert_exporter": "python",
   "pygments_lexer": "ipython3",
   "version": "3.11.4"
  }
 },
 "nbformat": 4,
 "nbformat_minor": 2
}
